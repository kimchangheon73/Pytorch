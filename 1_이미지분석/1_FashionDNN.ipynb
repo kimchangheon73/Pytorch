{
 "cells": [
  {
   "attachments": {},
   "cell_type": "markdown",
   "metadata": {},
   "source": [
    "# Fashion DNN \n",
    "- fashion_mnist 데이터 셋을 이용한 클래스 분류"
   ]
  },
  {
   "attachments": {},
   "cell_type": "markdown",
   "metadata": {},
   "source": [
    "# 1. 필수 라이브러리 임포트"
   ]
  },
  {
   "cell_type": "code",
   "execution_count": 7,
   "metadata": {},
   "outputs": [],
   "source": [
    "import torch\n",
    "import torch.nn as nn\n",
    "import torch.nn.functional as F\n",
    "from torch.utils.data import DataLoader, TensorDataset\n",
    "\n",
    "import torchvision\n",
    "from torchvision import transforms\n",
    "from torchvision.datasets import FashionMNIST\n",
    "\n",
    "import numpy as np\n",
    "from sklearn.metrics import accuracy_score"
   ]
  },
  {
   "attachments": {},
   "cell_type": "markdown",
   "metadata": {},
   "source": [
    "# 2. Dataset 다운로드"
   ]
  },
  {
   "cell_type": "code",
   "execution_count": 8,
   "metadata": {},
   "outputs": [],
   "source": [
    "train_set = FashionMNIST(\"../0_data/\", download=True, train=True, transform=transforms.ToTensor())\n",
    "test_set = FashionMNIST(\"../0_data/\", download=True, train=False, transform=transforms.ToTensor())\n",
    "\n",
    "train_loader = DataLoader(train_set, batch_size=64, shuffle=True)\n",
    "test_loader = DataLoader(test_set, batch_size=64, shuffle=True)"
   ]
  },
  {
   "attachments": {},
   "cell_type": "markdown",
   "metadata": {},
   "source": [
    "# 3. 모델 생성"
   ]
  },
  {
   "cell_type": "code",
   "execution_count": 9,
   "metadata": {},
   "outputs": [],
   "source": [
    "class FashionDNN(nn.Module):\n",
    "    def __init__(self):\n",
    "        super(FashionDNN, self).__init__()\n",
    "        self.sequnece = nn.Sequential(\n",
    "            nn.Flatten(),\n",
    "            nn.Linear(784,256),\n",
    "            nn.ReLU(inplace=True),\n",
    "            nn.Linear(256,128),\n",
    "            nn.ReLU(inplace=True),\n",
    "            nn.Linear(128,10),\n",
    "            nn.Softmax(dim=1)\n",
    "        )\n",
    "\n",
    "    def forward(self, x):\n",
    "        x = self.sequnece(x)\n",
    "        return x"
   ]
  },
  {
   "attachments": {},
   "cell_type": "markdown",
   "metadata": {},
   "source": [
    "# 4. 모델 선언 및 컴파일"
   ]
  },
  {
   "cell_type": "code",
   "execution_count": 10,
   "metadata": {},
   "outputs": [],
   "source": [
    "model = FashionDNN()\n",
    "\n",
    "optimizer = torch.optim.Adam(model.parameters(), lr = 0.001)\n",
    "criterion = nn.CrossEntropyLoss()"
   ]
  },
  {
   "cell_type": "code",
   "execution_count": 15,
   "metadata": {},
   "outputs": [],
   "source": [
    "def train(model, dataloader, optimizer, criterion):\n",
    "    model.train()\n",
    "    total_loss = 0\n",
    "    for data in (dataloader):\n",
    "        inputs, targs = data\n",
    "\n",
    "        optimizer.zero_grad()\n",
    "\n",
    "        y_pred = model(inputs)\n",
    "        loss = criterion(y_pred, targs)\n",
    "        total_loss += loss\n",
    "\n",
    "        loss.backward()\n",
    "        optimizer.step()\n",
    "    \n",
    "    return total_loss / len(dataloader)\n",
    "\n",
    "\n",
    "def eval(model, dataloader, criterion):\n",
    "    model.eval()\n",
    "\n",
    "    y_pred_lst = []\n",
    "    y_targ_lst = []\n",
    "    loss = 0\n",
    "    for idx, data in (enumerate(dataloader)):\n",
    "        inputs, targs = data\n",
    "\n",
    "        y_pred = model(inputs)\n",
    "\n",
    "        loss += criterion(y_pred, targs)\n",
    "\n",
    "        class_pred = torch.argmax(y_pred, dim=1)\n",
    "        \n",
    "        for i in class_pred:\n",
    "            y_pred_lst.append(i.to(\"cpu\").item())\n",
    "\n",
    "        for i in targs:\n",
    "            y_targ_lst.append(i.to(\"cpu\").item())\n",
    "    \n",
    "    return y_targ_lst, y_pred_lst"
   ]
  },
  {
   "cell_type": "code",
   "execution_count": 17,
   "metadata": {},
   "outputs": [
    {
     "name": "stdout",
     "output_type": "stream",
     "text": [
      "Epoch : 0 \t loss : 1.638849\n",
      "Epoch : 1 \t loss : 1.637327\n",
      "Epoch : 2 \t loss : 1.636179\n",
      "Epoch : 3 \t loss : 1.612612\n",
      "Epoch : 4 \t loss : 1.579890\n",
      "Epoch : 5 \t loss : 1.576927\n",
      "Epoch : 6 \t loss : 1.571786\n",
      "Epoch : 7 \t loss : 1.571096\n",
      "Epoch : 8 \t loss : 1.572221\n",
      "Epoch : 9 \t loss : 1.567185\n",
      "정확도 : 0.86%\n"
     ]
    }
   ],
   "source": [
    "for epoch in range(10):\n",
    "    train_loss = train(model, train_loader, optimizer, criterion)\n",
    "    \n",
    "    print(f\"Epoch : {epoch} \\t loss : {train_loss:.6f}\")\n",
    "\n",
    "y_targ, y_pred = eval(model, test_loader, criterion)\n",
    "print(f\"정확도 : {accuracy_score(y_targ, y_pred):.2f}%\")"
   ]
  }
 ],
 "metadata": {
  "kernelspec": {
   "display_name": "torch",
   "language": "python",
   "name": "python3"
  },
  "language_info": {
   "codemirror_mode": {
    "name": "ipython",
    "version": 3
   },
   "file_extension": ".py",
   "mimetype": "text/x-python",
   "name": "python",
   "nbconvert_exporter": "python",
   "pygments_lexer": "ipython3",
   "version": "3.7.15"
  },
  "orig_nbformat": 4
 },
 "nbformat": 4,
 "nbformat_minor": 2
}

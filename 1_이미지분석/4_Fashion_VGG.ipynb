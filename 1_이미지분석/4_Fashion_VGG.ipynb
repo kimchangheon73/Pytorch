{
 "cells": [
  {
   "attachments": {},
   "cell_type": "markdown",
   "metadata": {},
   "source": [
    "# 전이학습 모델 사용"
   ]
  },
  {
   "attachments": {},
   "cell_type": "markdown",
   "metadata": {},
   "source": [
    "# 1. 중요 라이브러리 임포트"
   ]
  },
  {
   "cell_type": "code",
   "execution_count": null,
   "metadata": {},
   "outputs": [],
   "source": [
    "import torch\n",
    "import torch.nn as nn\n",
    "import torch.nn.functional as F\n",
    "from torch.utils.data import DataLoader, TensorDataset\n",
    "\n",
    "import torchvision\n",
    "from torchvision import transforms\n",
    "from torchvision.datasets import FashionMNIST, ImageFolder\n",
    "from torchvision.models import vgg16\n",
    "\n",
    "import numpy as np\n",
    "from sklearn.metrics import accuracy_score"
   ]
  },
  {
   "attachments": {},
   "cell_type": "markdown",
   "metadata": {},
   "source": [
    "# 2. DataSet 준비"
   ]
  },
  {
   "cell_type": "code",
   "execution_count": null,
   "metadata": {},
   "outputs": [],
   "source": [
    "transform = transforms.Compose([transforms.Resize((256, 256)),\n",
    "                                transforms.RandomHorizontalFlip(0.5),\n",
    "                                transforms.ToTensor()])\n",
    "\n",
    "train_set = ImageFolder(\"D:/0_Data/Cat_Dog/training_set/\", transform =transform)\n",
    "test_set = ImageFolder(\"D:/0_Data/Cat_Dog/test_set/\", transform=transform)\n",
    "\n",
    "train_loader = DataLoader(train_set, batch_size=64, shuffle=True)\n",
    "test_loader = DataLoader(test_set, batch_size=64, shuffle=True)"
   ]
  },
  {
   "cell_type": "code",
   "execution_count": null,
   "metadata": {},
   "outputs": [],
   "source": [
    "model = vgg16()\n",
    "model"
   ]
  },
  {
   "attachments": {},
   "cell_type": "markdown",
   "metadata": {},
   "source": [
    "# 3. 모델 클래스 생성"
   ]
  },
  {
   "cell_type": "code",
   "execution_count": null,
   "metadata": {},
   "outputs": [],
   "source": [
    "class custom_ResNet(nn.Module):\n",
    "    def __init__(self):\n",
    "        super(custom_ResNet, self).__init__()\n",
    "        self.vgg_layer = vgg16(weights=None) # 가중치를 가져오지 않음\n",
    "        self.fc0 = nn.Linear(1000, 256) # VGG16의 최종의 출력을 1000에서 256으로 바꿈\n",
    "        self.fc1 = nn.Linear(256, 32)\n",
    "        self.fc2 = nn.Linear(32, 2)\n",
    "\n",
    "    def forward(self, x):\n",
    "        x = self.vgg_layer(x)\n",
    "        x = self.fc0(x)\n",
    "        x = F.relu(x)\n",
    "        x = self.fc1(x)\n",
    "        x = F.relu(x)\n",
    "        x = self.fc2(x)\n",
    "        x = F.softmax(x, dim=1)\n",
    "        return x"
   ]
  },
  {
   "cell_type": "code",
   "execution_count": null,
   "metadata": {},
   "outputs": [],
   "source": [
    "model = custom_ResNet()\n",
    "\n",
    "optimizer = torch.optim.Adam(model.parameters(), lr = 0.001)\n",
    "criterion = nn.CrossEntropyLoss()"
   ]
  },
  {
   "cell_type": "code",
   "execution_count": null,
   "metadata": {},
   "outputs": [],
   "source": [
    "def train(model, dataloader, optimizer, criterion):\n",
    "    model.train()\n",
    "    total_loss = 0\n",
    "    for data in (dataloader):\n",
    "        inputs, targs = data\n",
    "\n",
    "        optimizer.zero_grad()\n",
    "\n",
    "        y_pred = model(inputs)\n",
    "        loss = criterion(y_pred, targs)\n",
    "        total_loss += loss\n",
    "\n",
    "        loss.backward()\n",
    "        optimizer.step()\n",
    "    \n",
    "    return total_loss / len(dataloader)\n",
    "\n",
    "\n",
    "def eval(model, dataloader, criterion):\n",
    "    model.eval()\n",
    "\n",
    "    y_pred_lst = []\n",
    "    y_targ_lst = []\n",
    "    loss = 0\n",
    "    for idx, data in (enumerate(dataloader)):\n",
    "        inputs, targs = data\n",
    "\n",
    "        y_pred = model(inputs)\n",
    "\n",
    "        loss += criterion(y_pred, targs)\n",
    "\n",
    "        class_pred = torch.argmax(y_pred, dim=1)\n",
    "        \n",
    "        for i in class_pred:\n",
    "            y_pred_lst.append(i.to(\"cpu\").item())\n",
    "\n",
    "        for i in targs:\n",
    "            y_targ_lst.append(i.to(\"cpu\").item())\n",
    "    \n",
    "    return y_targ_lst, y_pred_lst"
   ]
  },
  {
   "cell_type": "code",
   "execution_count": null,
   "metadata": {},
   "outputs": [],
   "source": [
    "for epoch in range(1):\n",
    "    train_loss = train(model, train_loader, optimizer, criterion)\n",
    "    \n",
    "    print(f\"Epoch : {epoch} \\t loss : {train_loss:.6f}\")\n",
    "\n",
    "y_targ, y_pred = eval(model, test_loader, criterion)\n",
    "print(f\"정확도 : {accuracy_score(y_targ, y_pred):.2f}%\")"
   ]
  }
 ],
 "metadata": {
  "kernelspec": {
   "display_name": "torch",
   "language": "python",
   "name": "python3"
  },
  "language_info": {
   "codemirror_mode": {
    "name": "ipython",
    "version": 3
   },
   "file_extension": ".py",
   "mimetype": "text/x-python",
   "name": "python",
   "nbconvert_exporter": "python",
   "pygments_lexer": "ipython3",
   "version": "3.7.15"
  },
  "orig_nbformat": 4
 },
 "nbformat": 4,
 "nbformat_minor": 2
}

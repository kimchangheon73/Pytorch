{
 "cells": [
  {
   "attachments": {},
   "cell_type": "markdown",
   "metadata": {},
   "source": [
    "# Fashion CNN 정의"
   ]
  },
  {
   "attachments": {},
   "cell_type": "markdown",
   "metadata": {},
   "source": [
    "# 중요 수식\n",
    "### W2 = ((W1 - k_size + 2P) / S ) + 1 \n",
    "### H2 = ((H1 - k_size + 2P) / S ) + 1 "
   ]
  },
  {
   "attachments": {},
   "cell_type": "markdown",
   "metadata": {},
   "source": [
    "# 1. 라이브러리 임포트"
   ]
  },
  {
   "cell_type": "code",
   "execution_count": 3,
   "metadata": {},
   "outputs": [],
   "source": [
    "import torch\n",
    "import torch.nn as nn\n",
    "import torch.nn.functional as F\n",
    "from torch.utils.data import DataLoader, TensorDataset\n",
    "\n",
    "import torchvision\n",
    "from torchvision import transforms\n",
    "from torchvision.datasets import FashionMNIST\n",
    "\n",
    "import numpy as np\n",
    "from sklearn.metrics import accuracy_score"
   ]
  },
  {
   "attachments": {},
   "cell_type": "markdown",
   "metadata": {},
   "source": [
    "# 2. Dataset 준비"
   ]
  },
  {
   "cell_type": "code",
   "execution_count": 4,
   "metadata": {},
   "outputs": [],
   "source": [
    "train_set = FashionMNIST(\"../0_data/\", download=True, train=True, transform=transforms.ToTensor())\n",
    "test_set = FashionMNIST(\"../0_data/\", download=True, train=False, transform=transforms.ToTensor())\n",
    "\n",
    "train_loader = DataLoader(train_set, batch_size=64, shuffle=True)\n",
    "test_loader = DataLoader(test_set, batch_size=64, shuffle=True)"
   ]
  },
  {
   "attachments": {},
   "cell_type": "markdown",
   "metadata": {},
   "source": [
    "# 3. 모델 생성 및 컴파일\n",
    "- input_size = (1, 28, 28)\n",
    "- conv1d = ((28-2 + 0)/ 1 ) + 1 --> (27, 27) --> (13, 13)\n",
    "- conv2d = ((13-2 + 0)/ 1 ) + 1 --> (12, 12) --> (6, 6)"
   ]
  },
  {
   "cell_type": "code",
   "execution_count": 18,
   "metadata": {},
   "outputs": [],
   "source": [
    "class FashionCNN(nn.Module):\n",
    "    def __init__(self):\n",
    "        super(FashionCNN, self).__init__()\n",
    "        self.conv1d = nn.Sequential(\n",
    "            nn.Conv2d(in_channels=1, out_channels=32, kernel_size=(2,2), stride=1, padding=0),\n",
    "            nn.BatchNorm2d(32),\n",
    "            nn.MaxPool2d((2,2)),\n",
    "            nn.ReLU(inplace=True)\n",
    "        )\n",
    "        self.conv2d = nn.Sequential(\n",
    "            nn.Conv2d(in_channels=32, out_channels=64, kernel_size=(2,2), stride=1, padding=0),\n",
    "            nn.BatchNorm2d(64),\n",
    "            nn.MaxPool2d((2,2)),\n",
    "            nn.ReLU(inplace=True)\n",
    "        )\n",
    "        self.fc = nn.Sequential(\n",
    "            nn.Flatten(),\n",
    "            nn.Linear(64*6*6, 128),\n",
    "            nn.ReLU(inplace=True),\n",
    "            nn.Linear(128, 32),\n",
    "            nn.ReLU(inplace=True),\n",
    "            nn.Linear(32,10),\n",
    "            nn.Softmax(dim=1)\n",
    "        )\n",
    "    def forward(self, x):\n",
    "        x = self.conv1d(x)\n",
    "        x = self.conv2d(x)\n",
    "        x = self.fc(x)\n",
    "        return x"
   ]
  },
  {
   "cell_type": "code",
   "execution_count": 19,
   "metadata": {},
   "outputs": [],
   "source": [
    "model = FashionCNN()\n",
    "\n",
    "optimizer = torch.optim.Adam(model.parameters(), lr = 0.001)\n",
    "criterion = nn.CrossEntropyLoss()"
   ]
  },
  {
   "cell_type": "code",
   "execution_count": 22,
   "metadata": {},
   "outputs": [],
   "source": [
    "def train(model, dataloader, optimizer, criterion):\n",
    "    model.train()\n",
    "    total_loss = 0\n",
    "    for data in (dataloader):\n",
    "        inputs, targs = data\n",
    "\n",
    "        optimizer.zero_grad()\n",
    "\n",
    "        y_pred = model(inputs)\n",
    "        loss = criterion(y_pred, targs)\n",
    "        total_loss += loss\n",
    "\n",
    "        loss.backward()\n",
    "        optimizer.step()\n",
    "    \n",
    "    return total_loss / len(dataloader)\n",
    "\n",
    "\n",
    "def eval(model, dataloader, criterion):\n",
    "    model.eval()\n",
    "\n",
    "    y_pred_lst = []\n",
    "    y_targ_lst = []\n",
    "    loss = 0\n",
    "    for idx, data in (enumerate(dataloader)):\n",
    "        inputs, targs = data\n",
    "\n",
    "        y_pred = model(inputs)\n",
    "\n",
    "        loss += criterion(y_pred, targs)\n",
    "\n",
    "        class_pred = torch.argmax(y_pred, dim=1)\n",
    "        \n",
    "        for i in class_pred:\n",
    "            y_pred_lst.append(i.to(\"cpu\").item())\n",
    "\n",
    "        for i in targs:\n",
    "            y_targ_lst.append(i.to(\"cpu\").item())\n",
    "    \n",
    "    return y_targ_lst, y_pred_lst"
   ]
  },
  {
   "cell_type": "code",
   "execution_count": 23,
   "metadata": {},
   "outputs": [
    {
     "name": "stdout",
     "output_type": "stream",
     "text": [
      "Epoch : 0 \t loss : 1.639245\n",
      "Epoch : 1 \t loss : 1.590606\n",
      "Epoch : 2 \t loss : 1.577991\n",
      "Epoch : 3 \t loss : 1.571548\n",
      "Epoch : 4 \t loss : 1.568098\n",
      "Epoch : 5 \t loss : 1.562429\n",
      "Epoch : 6 \t loss : 1.558503\n",
      "Epoch : 7 \t loss : 1.557612\n",
      "Epoch : 8 \t loss : 1.552572\n",
      "Epoch : 9 \t loss : 1.551498\n",
      "정확도 : 0.90%\n"
     ]
    }
   ],
   "source": [
    "for epoch in range(10):\n",
    "    train_loss = train(model, train_loader, optimizer, criterion)\n",
    "    \n",
    "    print(f\"Epoch : {epoch} \\t loss : {train_loss:.6f}\")\n",
    "\n",
    "y_targ, y_pred = eval(model, test_loader, criterion)\n",
    "print(f\"정확도 : {accuracy_score(y_targ, y_pred):.2f}%\")"
   ]
  }
 ],
 "metadata": {
  "kernelspec": {
   "display_name": "torch",
   "language": "python",
   "name": "python3"
  },
  "language_info": {
   "codemirror_mode": {
    "name": "ipython",
    "version": 3
   },
   "file_extension": ".py",
   "mimetype": "text/x-python",
   "name": "python",
   "nbconvert_exporter": "python",
   "pygments_lexer": "ipython3",
   "version": "3.7.15"
  },
  "orig_nbformat": 4
 },
 "nbformat": 4,
 "nbformat_minor": 2
}

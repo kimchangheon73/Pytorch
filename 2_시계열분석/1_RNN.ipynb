{
 "cells": [
  {
   "attachments": {},
   "cell_type": "markdown",
   "metadata": {},
   "source": [
    "# RNN Model\n",
    "- Stacked RNN : 신경망의 은닉층을 깊게 쌓은 순환신경망 구조\n",
    "- 각 층 간의 가중치와 bias는 서로 다르지만 각 층 내에서의 가중치와 bias는 동일하다"
   ]
  },
  {
   "attachments": {},
   "cell_type": "markdown",
   "metadata": {},
   "source": [
    "![RNN](./PNG/RNN.png)"
   ]
  },
  {
   "attachments": {},
   "cell_type": "markdown",
   "metadata": {},
   "source": [
    "# RNN( default )\n",
    "####  [Sequence, Batch_size, input_size]\n",
    "    - sequence = 4차원\n",
    "    - batch_size = 7차원\n",
    "    - input_size = 5차원 데이터 생성"
   ]
  },
  {
   "cell_type": "code",
   "execution_count": 79,
   "metadata": {},
   "outputs": [],
   "source": [
    "import torch\n",
    "import torch.nn as nn\n",
    "\n",
    "inputs = torch.randn(4,7,5) # 5개씩 7개를 묶는게 1개의 데이터 임 "
   ]
  },
  {
   "attachments": {},
   "cell_type": "markdown",
   "metadata": {},
   "source": [
    "# nn.RNN\n",
    "#### RNN은 기본 인자 값으로 input_size, hidden_size, num_layer를 받음\n",
    "- input_size = 입력으로 받는 데이터의 길이 (보통 sequence)\n",
    "- hidden_size = nn.RNN을 거쳐 나오는 output\n",
    "- num_layers = Stacked rnn의 깊이를 지정"
   ]
  },
  {
   "cell_type": "code",
   "execution_count": 80,
   "metadata": {},
   "outputs": [
    {
     "name": "stdout",
     "output_type": "stream",
     "text": [
      "RNN(5, 4, num_layers=3)\n"
     ]
    }
   ],
   "source": [
    "rnn_layer = nn.RNN(input_size=5, hidden_size = 4, num_layers = 3)\n",
    "print(rnn_layer)"
   ]
  },
  {
   "attachments": {},
   "cell_type": "markdown",
   "metadata": {},
   "source": [
    "# output 과 hidden\n",
    "- output : [sequence, batch_size, hidden_size]  에서 Sequence의 가장 끝\n",
    "- hidden : [num_layer, batch_size, hidden_size]  에서 num_layer의 가장 끝"
   ]
  },
  {
   "cell_type": "code",
   "execution_count": 81,
   "metadata": {},
   "outputs": [
    {
     "name": "stdout",
     "output_type": "stream",
     "text": [
      "output size : torch.Size([4, 7, 4])\n",
      "hidden size : torch.Size([3, 7, 4])\n"
     ]
    }
   ],
   "source": [
    "(output, hidden) = rnn_layer(inputs)\n",
    "print(f\"output size : {output.size()}\")\n",
    "print(f\"hidden size : {hidden.size()}\")"
   ]
  }
 ],
 "metadata": {
  "kernelspec": {
   "display_name": "torch",
   "language": "python",
   "name": "python3"
  },
  "language_info": {
   "codemirror_mode": {
    "name": "ipython",
    "version": 3
   },
   "file_extension": ".py",
   "mimetype": "text/x-python",
   "name": "python",
   "nbconvert_exporter": "python",
   "pygments_lexer": "ipython3",
   "version": "3.7.15"
  },
  "orig_nbformat": 4
 },
 "nbformat": 4,
 "nbformat_minor": 2
}
